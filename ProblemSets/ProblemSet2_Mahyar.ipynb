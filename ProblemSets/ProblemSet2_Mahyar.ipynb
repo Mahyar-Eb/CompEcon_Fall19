{
 "cells": [
  {
   "cell_type": "markdown",
   "metadata": {},
   "source": [
    "# Standard Library\n",
    "## Problem 1"
   ]
  },
  {
   "cell_type": "code",
   "execution_count": 8,
   "metadata": {},
   "outputs": [],
   "source": [
    "def func(L):\n",
    "    print(\"min =\", min(L),\"max = \", max(L),\"average =\", (sum(L)/len(L)))"
   ]
  },
  {
   "cell_type": "code",
   "execution_count": 9,
   "metadata": {},
   "outputs": [
    {
     "name": "stdout",
     "output_type": "stream",
     "text": [
      "min = 1 max =  3 average = 2.0\n"
     ]
    }
   ],
   "source": [
    "func([1, 2, 3])"
   ]
  },
  {
   "cell_type": "markdown",
   "metadata": {},
   "source": [
    "## Problem 2"
   ]
  },
  {
   "cell_type": "code",
   "execution_count": 11,
   "metadata": {},
   "outputs": [
    {
     "data": {
      "text/plain": [
       "False"
      ]
     },
     "execution_count": 11,
     "metadata": {},
     "output_type": "execute_result"
    }
   ],
   "source": [
    "a = int(1.1)\n",
    "b = a\n",
    "b = 1.1\n",
    "a == b"
   ]
  },
  {
   "cell_type": "code",
   "execution_count": 4,
   "metadata": {},
   "outputs": [
    {
     "name": "stdout",
     "output_type": "stream",
     "text": [
      "1 1.1\n"
     ]
    }
   ],
   "source": [
    "print(a, b)   # only b changed. int is immutable"
   ]
  },
  {
   "cell_type": "code",
   "execution_count": 5,
   "metadata": {},
   "outputs": [
    {
     "data": {
      "text/plain": [
       "False"
      ]
     },
     "execution_count": 5,
     "metadata": {},
     "output_type": "execute_result"
    }
   ],
   "source": [
    "c = 'Happy New Year'\n",
    "d = c\n",
    "d = 12345\n",
    "c == d"
   ]
  },
  {
   "cell_type": "code",
   "execution_count": 6,
   "metadata": {},
   "outputs": [
    {
     "name": "stdout",
     "output_type": "stream",
     "text": [
      "['Happy New Year', 12345]\n"
     ]
    },
    {
     "data": {
      "text/plain": [
       "str"
      ]
     },
     "execution_count": 6,
     "metadata": {},
     "output_type": "execute_result"
    }
   ],
   "source": [
    "print([c, d])\n",
    "type(c)"
   ]
  },
  {
   "cell_type": "code",
   "execution_count": 7,
   "metadata": {},
   "outputs": [
    {
     "data": {
      "text/plain": [
       "int"
      ]
     },
     "execution_count": 7,
     "metadata": {},
     "output_type": "execute_result"
    }
   ],
   "source": [
    "type(d) #Only one changes. str is immutable"
   ]
  },
  {
   "cell_type": "code",
   "execution_count": 8,
   "metadata": {},
   "outputs": [
    {
     "data": {
      "text/plain": [
       "True"
      ]
     },
     "execution_count": 8,
     "metadata": {},
     "output_type": "execute_result"
    }
   ],
   "source": [
    "e = list(['a', 1])\n",
    "f = e\n",
    "f[0]= list([1, 2])\n",
    "e == f"
   ]
  },
  {
   "cell_type": "code",
   "execution_count": 9,
   "metadata": {},
   "outputs": [
    {
     "name": "stdout",
     "output_type": "stream",
     "text": [
      "[[1, 2], 1] [[1, 2], 1]\n"
     ]
    }
   ],
   "source": [
    "print(e, f) #Both changed. list is mutable"
   ]
  },
  {
   "cell_type": "code",
   "execution_count": 10,
   "metadata": {},
   "outputs": [
    {
     "data": {
      "text/plain": [
       "False"
      ]
     },
     "execution_count": 10,
     "metadata": {},
     "output_type": "execute_result"
    }
   ],
   "source": [
    "g = (1, 2, 3, 4)\n",
    "h = g\n",
    "h += ('5',)\n",
    "h == g"
   ]
  },
  {
   "cell_type": "code",
   "execution_count": 11,
   "metadata": {},
   "outputs": [
    {
     "name": "stdout",
     "output_type": "stream",
     "text": [
      "(1, 2, 3, 4, '5') (1, 2, 3, 4)\n"
     ]
    }
   ],
   "source": [
    "print(h, g) #only one changed. tuple is immutable"
   ]
  },
  {
   "cell_type": "code",
   "execution_count": 12,
   "metadata": {},
   "outputs": [
    {
     "data": {
      "text/plain": [
       "True"
      ]
     },
     "execution_count": 12,
     "metadata": {},
     "output_type": "execute_result"
    }
   ],
   "source": [
    "i = {1, 2, 3}\n",
    "j = i\n",
    "j -= {1}\n",
    "j == i"
   ]
  },
  {
   "cell_type": "code",
   "execution_count": 13,
   "metadata": {},
   "outputs": [
    {
     "name": "stdout",
     "output_type": "stream",
     "text": [
      "{2, 3} {2, 3}\n"
     ]
    }
   ],
   "source": [
    "print(i, j) #Both changed. set is mutable"
   ]
  },
  {
   "cell_type": "markdown",
   "metadata": {},
   "source": [
    "## Problem 3"
   ]
  },
  {
   "cell_type": "code",
   "execution_count": 17,
   "metadata": {},
   "outputs": [
    {
     "name": "stdout",
     "output_type": "stream",
     "text": [
      "13.0\n"
     ]
    }
   ],
   "source": [
    "import calculator as calc\n",
    "def funcH(m, n):\n",
    "    alpha = calc.funcP(m, m)\n",
    "    beta = calc.funcP(n, n)\n",
    "    print(calc.sqrt(calc.funcS(alpha, beta)))\n",
    "m = 5\n",
    "n = 12\n",
    "funcH(m, n)"
   ]
  },
  {
   "cell_type": "markdown",
   "metadata": {},
   "source": [
    "# Introduction to NumPy\n",
    "## Problem 1"
   ]
  },
  {
   "cell_type": "code",
   "execution_count": 18,
   "metadata": {},
   "outputs": [],
   "source": [
    "import numpy as np\n",
    "def prod(A, B):\n",
    "    return np.dot(np.array(A), np.array(B))"
   ]
  },
  {
   "cell_type": "code",
   "execution_count": 19,
   "metadata": {},
   "outputs": [
    {
     "data": {
      "text/plain": [
       "array([[ 37,  14, -32, -10],\n",
       "       [-54,  -7,  58,  65]])"
      ]
     },
     "execution_count": 19,
     "metadata": {},
     "output_type": "execute_result"
    }
   ],
   "source": [
    "A = [[3, -1, 4], [1, 5, -9]]\n",
    "B = [[2, 6, -5, 3], [5, -8, 9, 7], [9, -3, -2, -3]]\n",
    "prod(A, B)"
   ]
  },
  {
   "cell_type": "markdown",
   "metadata": {},
   "source": [
    "## Problem 2"
   ]
  },
  {
   "cell_type": "code",
   "execution_count": 20,
   "metadata": {},
   "outputs": [],
   "source": [
    "import numpy as np\n",
    "def func(A):\n",
    "    A = np.array(A)\n",
    "    R = (-A * A * A) + (9 * A * A) - (15 * A)\n",
    "    return R"
   ]
  },
  {
   "cell_type": "code",
   "execution_count": 21,
   "metadata": {},
   "outputs": [
    {
     "data": {
      "text/plain": [
       "array([[   9,   -7,   20],\n",
       "       [  -7,   25, -135],\n",
       "       [ 425,    9,   -7]])"
      ]
     },
     "execution_count": 21,
     "metadata": {},
     "output_type": "execute_result"
    }
   ],
   "source": [
    "A = [[3, 1, 4], [1, 5, 9], [-5, 3, 1]]\n",
    "func(A)"
   ]
  },
  {
   "cell_type": "markdown",
   "metadata": {},
   "source": [
    "## Problem 5"
   ]
  },
  {
   "cell_type": "code",
   "execution_count": 3,
   "metadata": {},
   "outputs": [],
   "source": [
    "import numpy as np\n",
    "def blockmat(A, B, C):\n",
    "    A = np.array(A)\n",
    "    B = np.array(B)\n",
    "    C = np.array(C)\n",
    "    row1 = np.column_stack((np.zeros((3,3)), A.T, np.eye((3))))\n",
    "    row2 = np.column_stack((A, np.zeros((2, 2)), np.zeros((2, 3))))\n",
    "    row3 = np.column_stack((B, np.zeros((3,2)), C))\n",
    "    print(np.vstack((row1, row2, row3)))"
   ]
  },
  {
   "cell_type": "code",
   "execution_count": 5,
   "metadata": {},
   "outputs": [
    {
     "name": "stdout",
     "output_type": "stream",
     "text": [
      "[[ 0.  0.  0.  0.  1.  1.  0.  0.]\n",
      " [ 0.  0.  0.  2.  3.  0.  1.  0.]\n",
      " [ 0.  0.  0.  4.  5.  0.  0.  1.]\n",
      " [ 0.  2.  4.  0.  0.  0.  0.  0.]\n",
      " [ 1.  3.  5.  0.  0.  0.  0.  0.]\n",
      " [ 3.  0.  0.  0.  0. -2.  0.  0.]\n",
      " [ 3.  3.  0.  0.  0.  0. -2.  0.]\n",
      " [ 3.  3.  3.  0.  0.  0.  0. -2.]]\n"
     ]
    }
   ],
   "source": [
    "A = [[0, 2, 4], [1, 3, 5]]\n",
    "B = [[3, 0, 0], [3, 3, 0], [3, 3, 3]]\n",
    "C = [[-2, 0, 0], [0, -2, 0], [0, 0, -2]]\n",
    "blockmat(A, B, C)"
   ]
  },
  {
   "cell_type": "markdown",
   "metadata": {},
   "source": [
    "# Object-Oriented Programming\n",
    "## Problem 1"
   ]
  },
  {
   "cell_type": "code",
   "execution_count": 20,
   "metadata": {},
   "outputs": [
    {
     "name": "stdout",
     "output_type": "stream",
     "text": [
      "No Room!\n",
      "contents:  ['pen', 'pencil', 'notebook', 'laptop', 'mouse']\n"
     ]
    }
   ],
   "source": [
    "class Backpack(object):    #Part 1\n",
    "    def __init__(self, name, color, max_size = 5):\n",
    "        '''\n",
    "        (part 4) object class. including a name, a color, and maximum size for contents and a content list.\n",
    "\n",
    "        Attributes:\n",
    "             name (string) : name of the backpack's owner.\n",
    "             color (string) : color of the backpack.\n",
    "             max_size (integer) : the maximum size of the backpack.\n",
    "             contents (list) : contents of the backpack.\n",
    "        '''\n",
    "        self.name = name\n",
    "        self.contents = []\n",
    "        self.color = color\n",
    "        self.max_size = max_size\n",
    "\n",
    "    def put(self, item):    #part 2\n",
    "        if len(self.contents) >= self.max_size:\n",
    "            print(\"No Room!\")\n",
    "        else:\n",
    "            self.contents.append(item)\n",
    "\n",
    "    def dump(self):    #part 3\n",
    "        self.contents = []\n",
    "\n",
    "#-----------------------------------------------------------------\n",
    "#-----------------------------------------------------------------\n",
    "testpack = Backpack(\"Mahyar\", \"Blue\")\n",
    "for item in [\"pen\", \"pencil\", \"notebook\", \"laptop\", \"mouse\", \"umbrella\"]:\n",
    "    testpack.put(item)\n",
    "print(\"contents: \", testpack.contents)\n",
    "# no room for \"umbrella\"!"
   ]
  },
  {
   "cell_type": "code",
   "execution_count": 21,
   "metadata": {},
   "outputs": [
    {
     "name": "stdout",
     "output_type": "stream",
     "text": [
      "contents:  []\n"
     ]
    }
   ],
   "source": [
    "testpack.dump()\n",
    "print(\"contents: \", testpack.contents)"
   ]
  },
  {
   "cell_type": "markdown",
   "metadata": {},
   "source": [
    "## Problem 2"
   ]
  },
  {
   "cell_type": "code",
   "execution_count": 26,
   "metadata": {},
   "outputs": [],
   "source": [
    "# Backpack object class, attributes and details are explained and constructed in previous lines in problem 1.\n",
    "# First run Problem 1, Backpack class. \n",
    "\n",
    "########################################################################\n",
    "########################################################################\n",
    "\n",
    "class Jetpack(Backpack):\n",
    "    \"\"\"\n",
    "    A Jetpack object class. Inherited from Backpack class.\n",
    "    A Jetpack is smaller than a Backpackself.\n",
    "\n",
    "    Attributes:\n",
    "        name (str): the name of the Jetpack's owner.\n",
    "        color (str): color of Jetpack\n",
    "        max_size (int): maximum number of items that can be fit inside the Jetpack\n",
    "        fuel (int):\n",
    "        contents (list): the contents of the Jetpack\n",
    "    \"\"\"\n",
    "    def __init__(self, name, color, max_size = 2, fuel =10):\n",
    "        Backpack.__init__(self, name, color, max_size)\n",
    "        self.fuel = fuel\n",
    "\n",
    "    def fly(self, burned_fuel):\n",
    "        self.burned_fuel = burned_fuel\n",
    "        if self.burned_fuel <= self.fuel:\n",
    "            self.fuel = self.fuel - self.burned_fuel\n",
    "        if self.burned_fuel > self.fuel:\n",
    "            self.fuel = self.fuel\n",
    "            print(\"Not Enough Fuel!\")\n",
    "    def dump(self):\n",
    "        Backpack.dump(self)\n",
    "        self.fuel = 0"
   ]
  },
  {
   "cell_type": "code",
   "execution_count": 27,
   "metadata": {},
   "outputs": [
    {
     "name": "stdout",
     "output_type": "stream",
     "text": [
      "['calculator'] 10\n"
     ]
    }
   ],
   "source": [
    "test = Jetpack(\"Mahyar\", \"White\")\n",
    "test.put(\"calculator\")\n",
    "print(test.contents, test.fuel)"
   ]
  },
  {
   "cell_type": "code",
   "execution_count": 28,
   "metadata": {},
   "outputs": [
    {
     "name": "stdout",
     "output_type": "stream",
     "text": [
      "[] 0\n"
     ]
    }
   ],
   "source": [
    "test.dump()\n",
    "print(test.contents, test.fuel)"
   ]
  },
  {
   "cell_type": "code",
   "execution_count": 29,
   "metadata": {},
   "outputs": [
    {
     "name": "stdout",
     "output_type": "stream",
     "text": [
      "No Room!\n",
      "['pen', 'pencil'] 0\n"
     ]
    }
   ],
   "source": [
    "for item in [\"pen\", \"pencil\", \"notebook\"]:\n",
    "    test.put(item)\n",
    "print(test.contents, test.fuel)"
   ]
  },
  {
   "cell_type": "code",
   "execution_count": 30,
   "metadata": {},
   "outputs": [
    {
     "name": "stdout",
     "output_type": "stream",
     "text": [
      "Not Enough Fuel!\n",
      "['pen', 'pencil'] 0\n"
     ]
    }
   ],
   "source": [
    "test.fly(1)\n",
    "print(test.contents, test.fuel)"
   ]
  },
  {
   "cell_type": "code",
   "execution_count": null,
   "metadata": {},
   "outputs": [],
   "source": []
  }
 ],
 "metadata": {
  "kernelspec": {
   "display_name": "Python 3",
   "language": "python",
   "name": "python3"
  },
  "language_info": {
   "codemirror_mode": {
    "name": "ipython",
    "version": 3
   },
   "file_extension": ".py",
   "mimetype": "text/x-python",
   "name": "python",
   "nbconvert_exporter": "python",
   "pygments_lexer": "ipython3",
   "version": "3.7.3"
  }
 },
 "nbformat": 4,
 "nbformat_minor": 2
}
